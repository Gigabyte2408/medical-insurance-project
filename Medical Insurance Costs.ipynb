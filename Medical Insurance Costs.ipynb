{
 "cells": [
  {
   "cell_type": "markdown",
   "metadata": {},
   "source": [
    "# U.S. Medical Insurance Costs"
   ]
  },
  {
   "cell_type": "code",
   "execution_count": 2,
   "metadata": {},
   "outputs": [
    {
     "name": "stdout",
     "output_type": "stream",
     "text": [
      "3\n"
     ]
    }
   ],
   "source": [
    "#How many female\n",
    "#How many with no children / how many at each interval of children\n",
    "#Average insurance cost for smokers / non-smokers\n",
    "#Average insurance cost for different age intervals\n",
    "#How many people in each region\n",
    "#Create a dictionary to hold all patient files and details\n",
    "\n"
   ]
  },
  {
   "cell_type": "code",
   "execution_count": 69,
   "metadata": {},
   "outputs": [
    {
     "name": "stdout",
     "output_type": "stream",
     "text": [
      "The average age for this dataset is 39.21 years.\n",
      "There are 676 males and 662 females in this dataset. Thus, the percentage for each is: Males : 50.52%  Females: 49.48%\n",
      "The average BMI for this dataset is 30.66.\n",
      "The amount of people in each BMI category is as follow: Underweight: 20 (1.49%),  Healthy: 222 (16.59%),  Overweight: 380 (28.4%),  Obese: 716 (53.51%).\n",
      "The distribution of the number of children is as follows: 0 children: 574 (42.9%),  1 child: 324 (24.22%),  2 children: 240 (17.94%),  3 children: 157 (11.73%),  4 children: 25 (1.87%),  5 children: 18 (1.35%).\n",
      "The number of smokers in this dataset is 274 (20.48%) and the number of nonsmokers is 1064 (79.52%)\n",
      "There are 325 (24.29%) people in Southwest, 364 (27.2%) people in Southeast, 325 (24.29%) in Northwest, and 324 (24.29%) people in Northeast.\n",
      "The average insurance charges for this dataset is $13270.42\n"
     ]
    }
   ],
   "source": [
    "import csv\n",
    "ages = []\n",
    "sex = []\n",
    "bmis = []\n",
    "children = []\n",
    "smoker = []\n",
    "region = []\n",
    "charges = []\n",
    "with open('/users/ghanimsial/desktop/Code Cademy/Data Science Machine Learning Specialist/Medical Insurance Project/insurance.csv') as main_file:\n",
    "    main_data = csv.DictReader(main_file)\n",
    "    for row in main_data:\n",
    "        ages.append(row['age'])\n",
    "        sex.append(row['sex'])\n",
    "        bmis.append(row['bmi'])\n",
    "        children.append(row['children'])\n",
    "        smoker.append(row['smoker'])\n",
    "        region.append(row['region'])\n",
    "        charges.append(row['charges'])\n",
    "\n",
    "def avg_age():\n",
    "    total_age = 0\n",
    "    for age in ages:\n",
    "        total_age += int(age)\n",
    "    return print(f'The average age for this dataset is {round(total_age/len(ages), 2)} years.')\n",
    "\n",
    "def count_sex():\n",
    "    males = 0\n",
    "    females = 0\n",
    "    for person in sex:\n",
    "        if person == 'male':\n",
    "            males += 1\n",
    "        if person == 'female':\n",
    "            females += 1\n",
    "    return print(f'There are {males} males and {females} females in this dataset. Thus, the percentage for each is: Males : {round(100*(males/(males+females)), 2)}%  Females: {round(100*(females/(males+females)), 2)}%')\n",
    "\n",
    "def analyse_bmis():\n",
    "    total_bmi = 0\n",
    "    underweight = 0\n",
    "    healthy = 0\n",
    "    overweight = 0\n",
    "    obese = 0\n",
    "    for bmi in bmis:\n",
    "        bmi = float(bmi)\n",
    "        total_bmi += float(bmi)\n",
    "        if bmi < 18.5:\n",
    "            underweight += 1\n",
    "        elif bmi <= 24.9:\n",
    "            healthy += 1\n",
    "        elif bmi <= 29.9:\n",
    "            overweight += 1\n",
    "        else:\n",
    "            obese += 1\n",
    "    print(f'The average BMI for this dataset is {round((total_bmi/len(bmis)), 2)}.')\n",
    "    print(f'The amount of people in each BMI category is as follow: Underweight: {underweight} ({round(100*underweight/1338, 2)}%),  Healthy: {healthy} ({round(100*healthy/1338, 2)}%),  Overweight: {overweight} ({round(100*overweight/1338, 2)}%),  Obese: {obese} ({round(100*obese/1338, 2)}%).')\n",
    "\n",
    "def distinct_children():\n",
    "    kids = {'0': 0, '1': 0, '2': 0, '3': 0, '4': 0, '5': 0}\n",
    "    for child in children:\n",
    "        kids[child] += 1\n",
    "    print(f'''The distribution of the number of children is as follows: 0 children: {kids['0']} ({round(100*kids['0']/1338, 2)}%),  1 child: {kids['1']} ({round(100*kids['1']/1338, 2)}%),  2 children: {kids['2']} ({round(100*kids['2']/1338, 2)}%),  3 children: {kids['3']} ({round(100*kids['3']/1338, 2)}%),  4 children: {kids['4']} ({round(100*kids['4']/1338, 2)}%),  5 children: {kids['5']} ({round(100*kids['5']/1338, 2)}%).''')\n",
    "\n",
    "def count_smokers():\n",
    "    smokers = 0\n",
    "    nonsmokers = 0\n",
    "    for person in smoker:\n",
    "        if person == 'yes':\n",
    "            smokers +=1\n",
    "        else:\n",
    "            nonsmokers +=1\n",
    "    print(f'The number of smokers in this dataset is {smokers} ({round(100*smokers/1338, 2)}%) and the number of nonsmokers is {nonsmokers} ({round(100*nonsmokers/1338, 2)}%)')\n",
    "\n",
    "def distinct_regions():\n",
    "    places = {}\n",
    "    for reg in region:\n",
    "        if reg not in places:\n",
    "            places[reg] = 1\n",
    "        else:\n",
    "            places[reg] += 1\n",
    "    print(f'''There are {places['southwest']} ({round(100*places['southwest']/1338, 2)}%) people in Southwest, {places['southeast']} ({round(100*places['southeast']/1338, 2)}%) people in Southeast, {places['northwest']} ({round(100*places['northwest']/1338, 2)}%) in Northwest, and {places['northeast']} ({round(100*places['northwest']/1338, 2)}%) people in Northeast.''')\n",
    "\n",
    "def avg_charges():\n",
    "    total_charge = 0\n",
    "    for charge in charges:\n",
    "        total_charge += float(charge)\n",
    "    print(f'The average insurance charges for this dataset is ${round(total_charge/1338, 2)}')\n",
    "avg_age()\n",
    "count_sex()\n",
    "analyse_bmis()\n",
    "distinct_children()\n",
    "count_smokers()\n",
    "distinct_regions()\n",
    "avg_charges()"
   ]
  },
  {
   "cell_type": "code",
   "execution_count": null,
   "metadata": {},
   "outputs": [],
   "source": [
    "\n"
   ]
  }
 ],
 "metadata": {
  "kernelspec": {
   "display_name": "Python 3.9.12",
   "language": "python",
   "name": "python3"
  },
  "language_info": {
   "codemirror_mode": {
    "name": "ipython",
    "version": 3
   },
   "file_extension": ".py",
   "mimetype": "text/x-python",
   "name": "python",
   "nbconvert_exporter": "python",
   "pygments_lexer": "ipython3",
   "version": "3.9.12"
  },
  "vscode": {
   "interpreter": {
    "hash": "cecaaf92fe84ad956c241f7626fd06c7677a0137b906da7e1f0cf1153478e915"
   }
  }
 },
 "nbformat": 4,
 "nbformat_minor": 4
}
