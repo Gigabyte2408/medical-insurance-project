{
 "cells": [
  {
   "cell_type": "markdown",
   "metadata": {},
   "source": [
    "# U.S. Medical Insurance Costs"
   ]
  },
  {
   "cell_type": "code",
   "execution_count": 2,
   "metadata": {},
   "outputs": [
    {
     "name": "stdout",
     "output_type": "stream",
     "text": [
      "3\n"
     ]
    }
   ],
   "source": [
    "#How many female\n",
    "#How many with no children / how many at each interval of children\n",
    "#Average insurance cost for smokers / non-smokers\n",
    "#Average insurance cost for different age intervals\n",
    "#How many people in each region\n",
    "#Create a dictionary to hold all patient files and details\n",
    "\n"
   ]
  },
  {
   "cell_type": "code",
   "execution_count": 21,
   "metadata": {},
   "outputs": [],
   "source": [
    "import csv\n",
    "ages = []\n",
    "sex = []\n",
    "bmis = []\n",
    "children = []\n",
    "smoker = []\n",
    "region = []\n",
    "charges = []\n",
    "with open('/users/ghanimsial/desktop/Code Cademy/Data Science Machine Learning Specialist/Medical Insurance Project/insurance.csv') as main_file:\n",
    "    main_data = csv.DictReader(main_file)\n",
    "    for row in main_data:\n",
    "        ages.append(row['age'])\n",
    "        sex.append(row['sex'])\n",
    "        bmis.append(row['bmi'])\n",
    "        children.append(row['children'])\n",
    "        smoker.append(row['smoker'])\n",
    "        region.append(row['region'])\n",
    "        charges.append(row['charges'])"
   ]
  },
  {
   "cell_type": "code",
   "execution_count": 31,
   "metadata": {},
   "outputs": [
    {
     "name": "stdout",
     "output_type": "stream",
     "text": [
      "The average age for this dataset is 39.21 years.\n",
      "There are 676 males and 662 females in this dataset. Thus the percentage for each is: Males : 50.52%  Females: 49.48%\n"
     ]
    }
   ],
   "source": [
    "def avg_age():\n",
    "    total_age = 0\n",
    "    for age in ages:\n",
    "        total_age += int(age)\n",
    "    return print(f'The average age for this dataset is {round(total_age/len(ages), 2)} years.')\n",
    "\n",
    "def count_sex():\n",
    "    males = 0\n",
    "    females = 0\n",
    "    for person in sex:\n",
    "        if person == 'male':\n",
    "            males += 1\n",
    "        if person == 'female':\n",
    "            females += 1\n",
    "    return print(f'There are {males} males and {females} females in this dataset. Thus, the percentage for each is: Males : {round(100*(males/(males+females)), 2)}%  Females: {round(100*(females/(males+females)), 2)}%')\n",
    "\n",
    "avg_age()\n",
    "count_sex()\n"
   ]
  }
 ],
 "metadata": {
  "kernelspec": {
   "display_name": "Python 3.9.12",
   "language": "python",
   "name": "python3"
  },
  "language_info": {
   "codemirror_mode": {
    "name": "ipython",
    "version": 3
   },
   "file_extension": ".py",
   "mimetype": "text/x-python",
   "name": "python",
   "nbconvert_exporter": "python",
   "pygments_lexer": "ipython3",
   "version": "3.9.12"
  },
  "vscode": {
   "interpreter": {
    "hash": "cecaaf92fe84ad956c241f7626fd06c7677a0137b906da7e1f0cf1153478e915"
   }
  }
 },
 "nbformat": 4,
 "nbformat_minor": 4
}
