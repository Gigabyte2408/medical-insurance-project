{
 "cells": [
  {
   "cell_type": "markdown",
   "metadata": {},
   "source": [
    "# U.S. Medical Insurance Costs"
   ]
  },
  {
   "cell_type": "code",
   "execution_count": 2,
   "metadata": {},
   "outputs": [
    {
     "name": "stdout",
     "output_type": "stream",
     "text": [
      "3\n"
     ]
    }
   ],
   "source": [
    "#How many female\n",
    "#How many with no children / how many at each interval of children\n",
    "#Average insurance cost for smokers / non-smokers\n",
    "#Average insurance cost for different age intervals\n",
    "#How many people in each region\n",
    "#Create a dictionary to hold all patient files and details\n",
    "\n"
   ]
  },
  {
   "cell_type": "code",
   "execution_count": 11,
   "metadata": {},
   "outputs": [
    {
     "name": "stdout",
     "output_type": "stream",
     "text": [
      "274\n",
      "1064\n",
      "1338\n"
     ]
    }
   ],
   "source": [
    "import csv\n",
    "ages = []\n",
    "sex = []\n",
    "bmis = []\n",
    "children = []\n",
    "smoker = []\n",
    "region = []\n",
    "charges = []\n",
    "with open('/users/ghanimsial/desktop/Code Cademy/Data Science Machine Learning Specialist/Medical Insurance Project/insurance.csv') as main_file:\n",
    "    main_data = csv.DictReader(main_file)\n",
    "    for row in main_data:\n",
    "        ages.append(row['age'])\n",
    "        sex.append(row['sex'])\n",
    "        bmis.append(row['bmi'])\n",
    "        children.append(row['children'])\n",
    "        smoker.append(row['smoker'])\n",
    "        region.append(row['region'])\n",
    "        charges.append(row['charges'])"
   ]
  }
 ],
 "metadata": {
  "kernelspec": {
   "display_name": "Python 3.9.12",
   "language": "python",
   "name": "python3"
  },
  "language_info": {
   "codemirror_mode": {
    "name": "ipython",
    "version": 3
   },
   "file_extension": ".py",
   "mimetype": "text/x-python",
   "name": "python",
   "nbconvert_exporter": "python",
   "pygments_lexer": "ipython3",
   "version": "3.9.12"
  },
  "vscode": {
   "interpreter": {
    "hash": "cecaaf92fe84ad956c241f7626fd06c7677a0137b906da7e1f0cf1153478e915"
   }
  }
 },
 "nbformat": 4,
 "nbformat_minor": 4
}
